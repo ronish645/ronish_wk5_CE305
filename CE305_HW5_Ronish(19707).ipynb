{
  "nbformat": 4,
  "nbformat_minor": 0,
  "metadata": {
    "colab": {
      "provenance": [],
      "authorship_tag": "ABX9TyPqhXqa902XDpIzaUcvvFyR",
      "include_colab_link": true
    },
    "kernelspec": {
      "name": "python3",
      "display_name": "Python 3"
    },
    "language_info": {
      "name": "python"
    }
  },
  "cells": [
    {
      "cell_type": "markdown",
      "metadata": {
        "id": "view-in-github",
        "colab_type": "text"
      },
      "source": [
        "<a href=\"https://colab.research.google.com/github/ronish645/ronish_wk5_CE305/blob/main/CE305_HW5_Ronish(19707).ipynb\" target=\"_parent\"><img src=\"https://colab.research.google.com/assets/colab-badge.svg\" alt=\"Open In Colab\"/></a>"
      ]
    },
    {
      "cell_type": "code",
      "source": [
        "# Initialize an empty memory\n",
        "init_mem = {}\n",
        "\n",
        "# Function to store an element in the memory\n",
        "def store(storage, elm):\n",
        "    storage.update(elm)\n",
        "    return storage\n",
        "\n",
        "# Function for immediate addressing\n",
        "def imm_load_ac(val):\n",
        "    return val\n",
        "\n",
        "# Function for direct addressing\n",
        "def dir_load_ac(storage, val):\n",
        "    return storage[val]\n",
        "\n",
        "# Function for indirect addressing\n",
        "def indir_load_ac(storage, val):\n",
        "    return storage[storage[val]]\n",
        "\n",
        "# Function for indexed addressing\n",
        "def idx_load_ac(storage, idx, val):\n",
        "    return storage[val + idx]\n",
        "\n",
        "# Example usage\n",
        "a = {800: 123}\n",
        "b = {900: 1000}\n",
        "mem = store(init_mem, a)\n",
        "mem = store(mem, b)\n",
        "\n",
        "c = {800: 900}\n",
        "mem = store(mem, c)\n",
        "\n",
        "d = {1500: 700}\n",
        "mem = store(mem, d)\n",
        "\n",
        "\n",
        "ac = imm_load_ac(800)\n",
        "print(f\"Accumulator after immediate load: {ac}\") # ac = 800\n",
        "ac = dir_load_ac(mem, 800)\n",
        "print(f\"Accumulator after direct load: {ac}\") # ac = 900\n",
        "ac = indir_load_ac(mem, 800)\n",
        "print(f\"Accumulator after indirect load: {ac}\") # ac = 1000\n",
        "idxreg = 700\n",
        "ac = idx_load_ac(mem, idxreg, 800)\n",
        "print(f\"Accumulator after indexed load: {ac}\") # ac = 700\n"
      ],
      "metadata": {
        "colab": {
          "base_uri": "https://localhost:8080/"
        },
        "id": "29cozohV5qOJ",
        "outputId": "5299f577-e081-45c9-ddaa-c57364026781"
      },
      "execution_count": 28,
      "outputs": [
        {
          "output_type": "stream",
          "name": "stdout",
          "text": [
            "Accumulator after immediate load: 800\n",
            "Accumulator after direct load: 900\n",
            "Accumulator after indirect load: 1000\n",
            "Accumulator after indexed load: 700\n"
          ]
        }
      ]
    },
    {
      "cell_type": "code",
      "source": [
        "def store(storage, block_address, block_values):\n",
        "    storage[block_address] = block_values\n",
        "    return storage\n",
        "\n",
        "def dir_map_cache(cache, adr, storage):\n",
        "    tag = adr[:7]      # 7-bit tag\n",
        "    block = adr[7:11]  # 4-bit block\n",
        "    word = adr[11:]    # 3-bit word\n",
        "\n",
        "    block_address = tag + block\n",
        "\n",
        "    if block_address in storage:\n",
        "        cache[block] = [tag, storage[block_address], 1]  # Update cache line\n",
        "    return cache\n",
        "\n",
        "def check_cache(cache, adr):\n",
        "    tag = adr[:7]      # 7-bit tag\n",
        "    block = adr[7:11]  # 4-bit block\n",
        "\n",
        "    if cache[block][0] == tag and cache[block][2] == 1:\n",
        "        return \"Hit\"\n",
        "    else:\n",
        "        return \"Miss\"\n",
        "\n",
        "# Initialize main memory and cache\n",
        "init_mem = {}\n",
        "cache = {format(i, '04b'): [\"0000000\", [], 0] for i in range(16)}\n",
        "\n",
        "# Example usage\n",
        "a_address = \"00000110101000\"\n",
        "a_values = [0, 1, 2, 3, 4, 5, 6, 7]\n",
        "mem = store(init_mem, a_address[:11], a_values)\n",
        "\n",
        "adr1 = \"00000110101010\"\n",
        "cache = dir_map_cache(cache, adr1, mem)\n",
        "\n",
        "print(\"Check cache for adr1:\", check_cache(cache, adr1))\n",
        "\n",
        "# Storing additional blocks in main memory\n",
        "b_address = \"00001110101000\"\n",
        "b_values = [10, 11, 12, 13, 14, 15, 16, 17]\n",
        "mem = store(mem, b_address[:11], b_values)\n",
        "\n",
        "adr2 = \"00001110101010\"\n",
        "cache = dir_map_cache(cache, adr2, mem)\n",
        "\n",
        "print(\"Check Cache for adr2:\", check_cache(cache, adr2))\n",
        "\n",
        "\n",
        "c_address = \"00001110111000\"\n",
        "c_values = [20, 21, 22, 23, 24, 25, 26, 27]\n",
        "mem = store(mem, c_address[:11], c_values)\n",
        "\n",
        "adr3 = \"00001110111111\"  # hex address: 7BF\n",
        "cache = dir_map_cache(cache, adr3, mem)\n",
        "\n",
        "print(\"Check Cache for adr3:\", check_cache(cache, adr3))  # Hit or Miss\n"
      ],
      "metadata": {
        "colab": {
          "base_uri": "https://localhost:8080/"
        },
        "id": "Ay2m_9A180kd",
        "outputId": "3952a1be-9cba-4157-f646-f27f1598bae0"
      },
      "execution_count": 30,
      "outputs": [
        {
          "output_type": "stream",
          "name": "stdout",
          "text": [
            "Check cache for adr1: Hit\n",
            "Check Cache for adr2: Hit\n",
            "Check Cache for adr3: Hit\n"
          ]
        }
      ]
    },
    {
      "cell_type": "code",
      "source": [
        "# Initialize main memory\n",
        "init_mem = {}\n",
        "\n",
        "# Function to store elements in the main memory\n",
        "def store(storage, elm):\n",
        "    for tag, block in elm.items():\n",
        "        storage[tag] = block\n",
        "    return storage\n",
        "\n",
        "# Initialize cache\n",
        "# Each cache line has a structure: [tag, data block, valid bit]\n",
        "cache = {\n",
        "    \"blk0\": [\"00000000000\", [0,0,0,0,0,0,0,0], 0],\n",
        "    \"blk1\": [\"00000000000\", [0,0,0,0,0,0,0,0], 0],\n",
        "    \"blk2\": [\"00000000000\", [0,0,0,0,0,0,0,0], 0],\n",
        "    \"blk3\": [\"00000000000\", [0,0,0,0,0,0,0,0], 0]\n",
        "}\n",
        "\n",
        "# Function to simulate fully associative cache behavior\n",
        "def fully_ass_cache(cache, adr, storage):\n",
        "    tag = adr[:-3]  # The tag is the address without the last 3 bits\n",
        "    word_index = int(adr[-3:], 2)  # The word index within the block\n",
        "\n",
        "    # Check if data is already in the cache\n",
        "    for block in cache.values():\n",
        "        if block[0] == tag and block[2] == 1:\n",
        "            # Cache hit, return the value\n",
        "            return block[1][word_index]\n",
        "\n",
        "    # Cache miss, load the data block from the main memory\n",
        "    if tag in storage:\n",
        "        # Find the next available block or replace the first one\n",
        "        for key in cache:\n",
        "            if cache[key][2] == 0:\n",
        "                cache[key] = [tag, storage[tag], 1]\n",
        "                return cache[key][1][word_index]\n",
        "        cache[\"blk0\"] = [tag, storage[tag], 1]  # If all blocks are used, replace the first one\n",
        "\n",
        "    return cache\n",
        "\n",
        "# Storing data in memory\n",
        "a = {\"00000110101000\": [0, 1, 2, 3, 4, 5, 6, 7]}\n",
        "b = {\"00001110101000\": [10, 11, 12, 13, 14, 15, 16, 17]}\n",
        "c = {\"00011110101000\": [20, 21, 22, 23, 24, 25, 26, 27]}\n",
        "d = {\"00111110101000\": [30, 31, 32, 33, 34, 35, 36, 37]}\n",
        "e = {\"01111110101000\": [40, 41, 42, 43, 44, 45, 46, 47]}\n",
        "\n",
        "mem = store(init_mem, a)  # Storing 'a' in memory\n",
        "mem = store(init_mem, b)  # Storing 'b' in memory\n",
        "mem = store(init_mem, c)  # Storing 'c' in memory\n",
        "mem = store(init_mem, d)  # Storing 'd' in memory\n",
        "mem = store(init_mem, e)  # Storing 'e' in memory\n",
        "\n",
        "# Accessing cache\n",
        "adr1 = \"00000110101010\"  # hex address: 1AA\n",
        "cache = fully_ass_cache(cache, adr1, mem)\n",
        "\n",
        "adr2 = \"00001110101010\"  # hex address: 3AA\n",
        "cache = fully_ass_cache(cache, adr2, mem)\n",
        "\n",
        "adr3 = \"00011110101111\"  # hex address: 7AF\n",
        "cache = fully_ass_cache(cache, adr3, mem)\n",
        "\n",
        "adr4 = \"00111110101101\"  # hex address: FAD\n",
        "cache = fully_ass_cache(cache, adr4, mem)\n",
        "\n",
        "adr5 = \"01111110101110\"  # hex address: 1FAE\n",
        "cache = fully_ass_cache(cache, adr5, mem)\n",
        "\n",
        "# Print the cache to see the result\n",
        "print(cache)\n"
      ],
      "metadata": {
        "colab": {
          "base_uri": "https://localhost:8080/"
        },
        "id": "gDancS-2E3jp",
        "outputId": "e36235ef-ec5c-47a5-9bef-57e56c5c0ab6"
      },
      "execution_count": 27,
      "outputs": [
        {
          "output_type": "stream",
          "name": "stdout",
          "text": [
            "{'blk0': ['00000000000', [0, 0, 0, 0, 0, 0, 0, 0], 0], 'blk1': ['00000000000', [0, 0, 0, 0, 0, 0, 0, 0], 0], 'blk2': ['00000000000', [0, 0, 0, 0, 0, 0, 0, 0], 0], 'blk3': ['00000000000', [0, 0, 0, 0, 0, 0, 0, 0], 0]}\n"
          ]
        }
      ]
    }
  ]
}